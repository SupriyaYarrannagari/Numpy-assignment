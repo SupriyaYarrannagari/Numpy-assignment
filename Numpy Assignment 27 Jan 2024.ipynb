{
 "cells": [
  {
   "cell_type": "code",
   "execution_count": null,
   "id": "71973d81",
   "metadata": {},
   "outputs": [],
   "source": [
    "#1.What is a Python library? Why do we use Python libraries?\n",
    "A python library is a collection of reusable python code, modules, and Packages that provides pre-Written Functionality to\n",
    "facilitates common programming tasks.There are several reasons for why python libraries are useful.\n",
    "They are:\n",
    "    -->Productivity\n",
    "    -->Abstraction\n",
    "    -->it is high level programming Language\n",
    "    -->Interpreted Programming Language\n",
    "    -->Dynamically Typed language\n",
    "    -->General Purpose Language\n",
    "    -->Free and Open Source Language\n",
    "    -->Portability\n",
    "    -->Extensibility\n",
    "    -->more Flexibility\n",
    "    -->standalization and Best Practices\n",
    "    -->Protability and Reuse\n",
    "    -->Advanced Capabilities\n",
    "    -->Readability..,etc"
   ]
  },
  {
   "cell_type": "code",
   "execution_count": null,
   "id": "4dca2d59",
   "metadata": {},
   "outputs": [],
   "source": [
    "#2. What is the difference between Numpy array and List?\n",
    "1.Python List\n",
    "a.Storage- Python List is a Dynamically  data type. \n",
    "b.Functionality -It is a general Purpose Programming Language.\n",
    "c.Speed-- Slower Due to Type checking and overhead\n",
    "d.Memory--More due to overhead\n",
    "2.Numpy Array\n",
    "a.storage --Numpy Array is a  Fixed data type.\n",
    "b.Functionality--It has mathematically and scientific operations.\n",
    "c.Speed --Faster due to vectorized operations and no type checking.\n",
    "d.Memory-- Optimized and efficient storage.\n"
   ]
  },
  {
   "cell_type": "code",
   "execution_count": 5,
   "id": "027700dc",
   "metadata": {},
   "outputs": [
    {
     "name": "stdout",
     "output_type": "stream",
     "text": [
      "shape: (3, 4)\n",
      "size: 12\n",
      "dimension: 2\n"
     ]
    }
   ],
   "source": [
    "#3. Find the shape, size and dimension of the following array?\n",
    "import numpy as np\n",
    "arr=np.array([\n",
    "               [1, 2, 3, 4],\n",
    "               [5, 6, 7, 8],\n",
    "               [9, 10, 11, 12]\n",
    "              ])\n",
    "print(\"shape:\",arr.shape)\n",
    "print(\"size:\",arr.size)\n",
    "print(\"dimension:\",arr.ndim)"
   ]
  },
  {
   "cell_type": "code",
   "execution_count": 6,
   "id": "1570dbb9",
   "metadata": {},
   "outputs": [
    {
     "name": "stdout",
     "output_type": "stream",
     "text": [
      "[1 2 3 4]\n"
     ]
    }
   ],
   "source": [
    "#4. Write python code to access the first row of the following array?\n",
    "import numpy as np\n",
    "arr=np.array([[1, 2, 3, 4],\n",
    "              [5, 6, 7, 8],\n",
    "              [9, 10, 11, 12]])\n",
    "first_row=arr[0]\n",
    "print(first_row)\n"
   ]
  },
  {
   "cell_type": "code",
   "execution_count": 8,
   "id": "7f079b8f",
   "metadata": {},
   "outputs": [
    {
     "name": "stdout",
     "output_type": "stream",
     "text": [
      "12\n"
     ]
    }
   ],
   "source": [
    "#5. How do you access the element at the third row and fourth column from the given numpy array?\n",
    "import numpy as np\n",
    "arr=np.array([[1, 2, 3, 4],\n",
    "              [5, 6, 7, 8],\n",
    "              [9, 10, 11, 12]])\n",
    "result=arr[2,3]\n",
    "print(result)"
   ]
  },
  {
   "cell_type": "code",
   "execution_count": 9,
   "id": "e7e5d042",
   "metadata": {},
   "outputs": [
    {
     "name": "stdout",
     "output_type": "stream",
     "text": [
      "[[5 7]]\n"
     ]
    }
   ],
   "source": [
    "#6. Write code to extract all odd-indexed elements from the given numpy array?\n",
    "import numpy as np\n",
    "arr=np.array([[1, 2, 3, 4],\n",
    "              [5, 6, 7, 8],\n",
    "              [9, 10, 11, 12]])\n",
    "odd_elements=arr[1::2, ::2]\n",
    "print(odd_elements)"
   ]
  },
  {
   "cell_type": "code",
   "execution_count": 10,
   "id": "d5ab88e1",
   "metadata": {},
   "outputs": [
    {
     "name": "stdout",
     "output_type": "stream",
     "text": [
      "[[0.78240565 0.73138029 0.90308778]\n",
      " [0.2659767  0.17727695 0.57936856]\n",
      " [0.24312039 0.01308909 0.53465582]]\n"
     ]
    }
   ],
   "source": [
    "#7. How can you generate a random 3x3 matrix with values between 0 and 1?\n",
    "import numpy as np\n",
    "matrix=np.random.random((3,3))\n",
    "print(matrix)"
   ]
  },
  {
   "cell_type": "code",
   "execution_count": null,
   "id": "d843ad0b",
   "metadata": {},
   "outputs": [],
   "source": [
    "#8. Describe the difference between np.random.rand and np.random.randn?\n",
    "1.np.random.rand:-\n",
    "--> Generate random numbers from uniform distribution within the half open interval [0.0,1.0). \n",
    "This means the value will be greater than or equal to '0' but strictly less than 1.\n",
    "--> each value has an equal probability of being chosen within the range.\n",
    "2.np.random.randn:-\n",
    "--> Generate random numbers from the standard normal distribution ,with a mean of 0 and a varience of 1.\n",
    "--> The values are distributed in a bell shaped curve with most value concentrated around the mean and fewer values further away.\n",
    "                                                                                     "
   ]
  },
  {
   "cell_type": "code",
   "execution_count": 14,
   "id": "e3228912",
   "metadata": {},
   "outputs": [
    {
     "name": "stdout",
     "output_type": "stream",
     "text": [
      "the uniform matrix is: [[0.16492148 0.05230471 0.86520387]\n",
      " [0.48392014 0.47395068 0.68508236]\n",
      " [0.6160089  0.09959812 0.87011701]]\n",
      "the normal matrix is: [[-0.59531658  1.53383623 -1.13909494]\n",
      " [-0.41851257 -2.28714034  0.82456056]\n",
      " [-1.30114381  0.15255748 -1.50217963]]\n"
     ]
    }
   ],
   "source": [
    "#examples\n",
    "import numpy as np\n",
    "uniform_matrix = np.random.rand(3, 3)\n",
    "normal_matrix = np.random.randn(3, 3)\n",
    "print(\"the uniform matrix is:\",uniform_matrix)\n",
    "print(\"the normal matrix is:\",normal_matrix)"
   ]
  },
  {
   "cell_type": "code",
   "execution_count": 15,
   "id": "445a8eed",
   "metadata": {},
   "outputs": [
    {
     "name": "stdout",
     "output_type": "stream",
     "text": [
      "Original dimension:\n",
      " [[ 1  2  3  4]\n",
      " [ 5  6  7  8]\n",
      " [ 9 10 11 12]]\n",
      "increased dimension array:\n",
      " [[[ 1  2  3  4]\n",
      "  [ 5  6  7  8]\n",
      "  [ 9 10 11 12]]]\n"
     ]
    }
   ],
   "source": [
    "#9. Write code to increase the dimension of the following array?\n",
    "import numpy as np\n",
    "arr=np.array([[1, 2, 3, 4],\n",
    "              [5, 6, 7, 8],\n",
    "              [9, 10, 11, 12]])\n",
    "increased_dim_array = np.expand_dims(arr, axis=0)\n",
    "print(\"Original dimension:\\n\",arr)\n",
    "print(\"increased dimension array:\\n\",increased_dim_array)"
   ]
  },
  {
   "cell_type": "code",
   "execution_count": 16,
   "id": "e0489f1a",
   "metadata": {},
   "outputs": [
    {
     "name": "stdout",
     "output_type": "stream",
     "text": [
      "[[ 1  5  9]\n",
      " [ 2  6 10]\n",
      " [ 3  7 11]\n",
      " [ 4  8 12]]\n"
     ]
    }
   ],
   "source": [
    "#10. How to transpose the following array in NumPy?\n",
    "#1.using the .T Transpose\n",
    "import numpy as np\n",
    "arr=np.array([[1, 2, 3, 4],\n",
    "              [5, 6, 7, 8],\n",
    "              [9, 10, 11, 12]])\n",
    "transpose_array=arr.T\n",
    "print(transpose_array)"
   ]
  },
  {
   "cell_type": "code",
   "execution_count": 17,
   "id": "6a7d9b65",
   "metadata": {},
   "outputs": [
    {
     "name": "stdout",
     "output_type": "stream",
     "text": [
      "[[ 1  5  9]\n",
      " [ 2  6 10]\n",
      " [ 3  7 11]\n",
      " [ 4  8 12]]\n"
     ]
    }
   ],
   "source": [
    "#2.using the np.transpose\n",
    "import numpy as np\n",
    "arr = np.array([[1,2,3,4],\n",
    "               [5,6,7,8],\n",
    "               [9,10,11,12]])\n",
    "transposed_array = np.transpose(arr)\n",
    "print(transposed_array)"
   ]
  },
  {
   "cell_type": "code",
   "execution_count": null,
   "id": "14feaf23",
   "metadata": {},
   "outputs": [],
   "source": [
    "11. Consi^er the following matrix:\n",
    "\n",
    "Matrix A2 [[1, 2, 3, 4] [5, 6, 7, 8],[9, 10, 11, 12]]\n",
    "\n",
    "Matrix B2 [[1, 2, 3, 4] [5, 6, 7, 8],[9, 10, 11, 12]]\n",
    "\n",
    "\n",
    "Perform the following operation using Python1\n",
    ",+ I(dex wiLe multiplicatio'\n",
    "]+ Mat\u001bix multiplicatio'\n",
    "\u001a+ Add both the mat\u001bicK\n",
    "-+ Subt\u001bact mat\u001bix B \u0014\u001bom \u0011\n",
    "\u0013+ Di\u0012ide Mat\u001bix B by A"
   ]
  },
  {
   "cell_type": "code",
   "execution_count": 19,
   "id": "778100bc",
   "metadata": {},
   "outputs": [
    {
     "name": "stdout",
     "output_type": "stream",
     "text": [
      "1.index wise multiplication:\n",
      " [[  1   4   9  16]\n",
      " [ 25  36  49  64]\n",
      " [ 81 100 121 144]]\n",
      "2.matrix multiplication(D):\n",
      " [[ 30  70 110]\n",
      " [ 70 174 278]\n",
      " [110 278 446]]\n",
      "3.Element wise Adding(E):\n",
      " [[ 2  4  6  8]\n",
      " [10 12 14 16]\n",
      " [18 20 22 24]]\n",
      "4.Subtracting Matrixs(F):\n",
      " [[0 0 0 0]\n",
      " [0 0 0 0]\n",
      " [0 0 0 0]]\n",
      "5.element wise dividing(G):\n",
      " [[1. 1. 1. 1.]\n",
      " [1. 1. 1. 1.]\n",
      " [1. 1. 1. 1.]]\n"
     ]
    }
   ],
   "source": [
    "#11.consider the following matrix:\n",
    "#1.index wise multiplication\n",
    "#2.matrix multiplication\n",
    "#3.add both the matrixs\n",
    "#4.subtract matrix B from A\n",
    "#5.divide matrix B by A\n",
    "import numpy as np\n",
    "A = np.array([[1, 2, 3, 4],\n",
    "              [5, 6, 7, 8],\n",
    "              [9, 10, 11, 12]])\n",
    "B = np.array([[1, 2, 3, 4],\n",
    "              [5, 6, 7, 8],\n",
    "              [9, 10, 11, 12]])\n",
    "C = A * B\n",
    "print(\"1.index wise multiplication:\\n\", C)\n",
    "\n",
    "D = np.dot(A, B.T)\n",
    "print(\"2.matrix multiplication(D):\\n\", D)\n",
    "\n",
    "E = A + B\n",
    "print(\"3.Element wise Adding(E):\\n\", E)\n",
    "\n",
    "F = A - B\n",
    "print(\"4.Subtracting Matrixs(F):\\n\", F)\n",
    "\n",
    "G = A/B\n",
    "print(\"5.element wise dividing(G):\\n\", G)\n"
   ]
  },
  {
   "cell_type": "code",
   "execution_count": null,
   "id": "cfa1642c",
   "metadata": {},
   "outputs": [],
   "source": [
    "#12.  Which function in Numpy can be used to swap the byte order of an array?\n",
    "The function in numpy that can be used to swap the byte orderof an array is byteswap().\n",
    "It's a method of the ndarray objects and works on the underlying data into the memory."
   ]
  },
  {
   "cell_type": "code",
   "execution_count": 20,
   "id": "68ef6f0e",
   "metadata": {},
   "outputs": [
    {
     "name": "stdout",
     "output_type": "stream",
     "text": [
      "Original Array: [16777216 33554432 50331648 67108864 83886080]\n",
      "Swapped Array: [16777216 33554432 50331648 67108864 83886080]\n"
     ]
    }
   ],
   "source": [
    "import numpy as np\n",
    "arr = np.array([1, 2, 3, 4, 5],dtype = np.int32)\n",
    "arr.byteswap(inplace = True)\n",
    "print(\"Original Array:\",arr)\n",
    "print(\"Swapped Array:\",arr)"
   ]
  },
  {
   "cell_type": "code",
   "execution_count": 27,
   "id": "3d2bc144",
   "metadata": {},
   "outputs": [
    {
     "name": "stdout",
     "output_type": "stream",
     "text": [
      "Original matrix:\n",
      " [[1 2]\n",
      " [3 4]]\n",
      "\n",
      "Inverse of the matrix:\n",
      " [[-2.   1. ]\n",
      " [ 1.5 -0.5]]\n",
      "\n",
      "Solution to Ax = b (x):\n",
      " [-3.  4.]\n"
     ]
    }
   ],
   "source": [
    "#13.  What is the significance of the np.linalg.inv function?\n",
    "import numpy as np\n",
    "A = np.array([[1, 2], [3, 4]])\n",
    "A_inv = np.linalg.inv(A)\n",
    "print(\"Original matrix:\\n\", A)\n",
    "print(\"\\nInverse of the matrix:\\n\", A_inv)\n",
    "b = np.array([5, 7])\n",
    "x = np.dot(A_inv, b)  \n",
    "print(\"\\nSolution to Ax = b (x):\\n\", x)\n"
   ]
  },
  {
   "cell_type": "code",
   "execution_count": null,
   "id": "357c01d8",
   "metadata": {},
   "outputs": [],
   "source": [
    "#14. What does the np.reshape function do, and how is it used?\n",
    "The np.reshape function in numpy is used to chande the shapeof an existing arraywithout modifying its underlying data.\n",
    "it allows you to reshape the array into a different arrangements of elements, as long as the total number elements remains the same.\n"
   ]
  },
  {
   "cell_type": "code",
   "execution_count": 32,
   "id": "7e43b653",
   "metadata": {},
   "outputs": [
    {
     "name": "stdout",
     "output_type": "stream",
     "text": [
      "Original array: [1 2 3 4 5 6]\n",
      "Reshaped array: [[1 2 3]\n",
      " [4 5 6]]\n"
     ]
    }
   ],
   "source": [
    "import numpy as np\n",
    "arr = np.array([1, 2, 3, 4, 5, 6])\n",
    "reshaped_arr = np.reshape(arr, (2, 3))\n",
    "print(\"Original array:\", arr)\n",
    "print(\"Reshaped array:\", reshaped_arr)"
   ]
  },
  {
   "cell_type": "code",
   "execution_count": null,
   "id": "32ad68fb",
   "metadata": {},
   "outputs": [],
   "source": [
    "#15. What is broadcasting in Numpy?\n",
    "Broadcasting in NumPy is a powerful mechanism that allows performing element-wise operations on arrays with different shapes\n",
    "under certain conditions. It automatically expands the smaller array in a specific way to make it compatible with the \n",
    "larger array for the operation. This eliminates the need for explicit looping and often leads to efficient vectorized operations."
   ]
  },
  {
   "cell_type": "code",
   "execution_count": 33,
   "id": "ba0d6312",
   "metadata": {},
   "outputs": [
    {
     "name": "stdout",
     "output_type": "stream",
     "text": [
      "[[11 22 33]\n",
      " [14 25 36]]\n"
     ]
    }
   ],
   "source": [
    "import numpy as np\n",
    "arr1 = np.array([[1, 2, 3], [4, 5, 6]])\n",
    "arr2 = np.array([10, 20, 30])\n",
    "added = arr1 + arr2\n",
    "print(added)\n"
   ]
  },
  {
   "cell_type": "code",
   "execution_count": null,
   "id": "8f9e6bda",
   "metadata": {},
   "outputs": [],
   "source": []
  }
 ],
 "metadata": {
  "kernelspec": {
   "display_name": "Python 3 (ipykernel)",
   "language": "python",
   "name": "python3"
  },
  "language_info": {
   "codemirror_mode": {
    "name": "ipython",
    "version": 3
   },
   "file_extension": ".py",
   "mimetype": "text/x-python",
   "name": "python",
   "nbconvert_exporter": "python",
   "pygments_lexer": "ipython3",
   "version": "3.10.9"
  }
 },
 "nbformat": 4,
 "nbformat_minor": 5
}
